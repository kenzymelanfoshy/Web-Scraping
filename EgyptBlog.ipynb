{
  "nbformat": 4,
  "nbformat_minor": 0,
  "metadata": {
    "colab": {
      "provenance": []
    },
    "kernelspec": {
      "name": "python3",
      "display_name": "Python 3"
    },
    "language_info": {
      "name": "python"
    }
  },
  "cells": [
    {
      "cell_type": "markdown",
      "source": [
        "# Egypt Adventures Travel Blog Posts after clearing and apply the preprocessing part"
      ],
      "metadata": {
        "id": "7dTxL5d4-4Aa"
      }
    },
    {
      "cell_type": "code",
      "source": [
        "import requests\n",
        "from bs4 import BeautifulSoup\n",
        "\n",
        "# Step 1: Send a request to the website\n",
        "url = 'https://www.egyptadventurestravel.com/blog'\n",
        "response = requests.get(url)\n",
        "\n",
        "# Step 2: Parse the HTML content\n",
        "soup = BeautifulSoup(response.content, 'html.parser')\n",
        "\n",
        "# Step 3: Extract relevant blog content (e.g., articles)\n",
        "articles = soup.find_all('article', class_='hentry')  # Find all blog articles\n",
        "\n",
        "# Step 4: Extract article details\n",
        "for article in articles:\n",
        "    title = article.find('h1', class_='blog-title').get_text(strip=True)\n",
        "    link = article.find('a')['href']\n",
        "    date = article.find('time', class_='blog-date').get_text(strip=True)\n",
        "    excerpt = article.find('div', class_='blog-excerpt-wrapper').get_text(strip=True)\n",
        "\n",
        "    print(f\"Title: {title}\")\n",
        "    print(f\"Link: {link}\")\n",
        "    print(f\"Date: {date}\")\n",
        "    print(f\"Excerpt: {excerpt}\")\n",
        "    print(\"-\" * 80)\n"
      ],
      "metadata": {
        "colab": {
          "base_uri": "https://localhost:8080/"
        },
        "id": "Sybchs1S9iY0",
        "outputId": "b663b969-3d79-4353-ec59-be8843db0309"
      },
      "execution_count": 12,
      "outputs": [
        {
          "output_type": "stream",
          "name": "stdout",
          "text": [
            "Title: Grand Egyptian Museum Opening July 3!\n",
            "Link: /blog/grand-egyptian-museum-opening\n",
            "Date: 1/30/25\n",
            "Excerpt: The Grand Egyptian Museum, the largest archaeological museum in the world, has its opening date set for July 3! Or, so they say. Here's what we know about the Grand Egyptian Museum opening and when to expect Egypt’s newest museum to open.\n",
            "--------------------------------------------------------------------------------\n",
            "Title: Egypt Itinerary 10 Days with Nile Cruise\n",
            "Link: /blog/egypt-itinerary-10-days-with-nile-cruise\n",
            "Date: 1/22/25\n",
            "Excerpt: Use this Egypt Itinerary 10 Days with Nile Cruise to help plan your trip to Egypt, see what you can do with a 10 full day trip, and check all of those ancient Egyptian sites off of your bucket list in Cairo, Luxor, Aswan, Abu Simbel, and Alexandria!\n",
            "--------------------------------------------------------------------------------\n",
            "Title: Things to See in Luxor Egypt\n",
            "Link: /blog/things-to-see-in-luxor-egypt\n",
            "Date: 1/12/25\n",
            "Excerpt: Luxor is the second-most important place to visit in Egypt aside from the Giza Pyramids and the Sphinx. Places like Karnak Temple, the Valley of the Kings, Hatshepsut's Temple, the tomb of King Tut, and doing a sunrise hot air balloon over the Nile River are just a few of the experiences this city in Upper Egypt has to offer during your trip. Let's talk about the must see attractions in Luxor, the best Luxor restaurants, best hotels in Luxor, and answer all your frequently asked questions before your Luxor trip.\n",
            "--------------------------------------------------------------------------------\n",
            "Title: Dahabiya Nile Cruise - guide to sailing on Egypt’s Nile River!\n",
            "Link: /blog/dahabiya-nile-cruise-guide\n",
            "Date: 11/8/24\n",
            "Excerpt: A Dahabiya Nile cruise is the best way to experience the magic of Egypt's Nile River! Learn what a Dahabiya is, why sail down the Nile on a Dahabiya instead of a larger cruise ship, explore some great options for luxury Dahabiya Nile cruises, and get answers to all your questions about this type of sailing ship.\n",
            "--------------------------------------------------------------------------------\n",
            "Title: Grand Egyptian Museum opens 12 NEW GALLERIES!\n",
            "Link: /blog/grand-egyptian-museum-opens-12-new-galleries\n",
            "Date: 10/21/24\n",
            "Excerpt: On October 16, 2024, the Grand Egyptian Museum opened up all of its main galleries to the public! Check out the 12 new galleries in the GEM, see how to buy Grand Egyptian Museum tickets, learn how to get to and from the newest museum in Cairo, plus read answers to all the frequently asked questions about the Grand Egyptian Museum.\n",
            "--------------------------------------------------------------------------------\n",
            "Title: Egyptian Arabic for travel to Egypt: Arabic Words and Arabic Phrases to help with your trip\n",
            "Link: /blog/egyptian-arabic-for-travel-arabic-words-and-arabic-phrases\n",
            "Date: 10/4/24\n",
            "Excerpt: If it's your first time in Egypt, you may want to learn some Egyptian Arabic phrases and words in order communicate with taxi drivers, order from a street food vendor in Cairo, or surprise and delight any locals you meet.In this post you will learn important words and phrases, and discover resources to dive deeper into learning Egyptian Arabic to get the most out of your Egypt experience.\n",
            "--------------------------------------------------------------------------------\n",
            "Title: Aswan Travel Guide: Aswan Attractions, Hotels, Restaurants, and more!\n",
            "Link: /blog/aswan-travel-guide-attractions-hotels-restaurants\n",
            "Date: 10/1/24\n",
            "Excerpt: In this Egypt travel guide, I will share places to visit in Aswan like Philae Temple and the Aswan High Dam, how to get to Aswan, what hotels in Aswan I love, and where to eat during your stay.\n",
            "--------------------------------------------------------------------------------\n",
            "Title: Flights from the US to Cairo: ultimate guide!\n",
            "Link: /blog/flights-from-us-to-cairo-egypt\n",
            "Date: 9/5/24\n",
            "Excerpt: Everything you need to know about flying to Cairo from the US, like:• How to get to Egypt• How long is the flight to Egypt• Direct flight to Cairo from the US• Airlines that fly to Cairo• Flight deals, how to find cheap flights to Cairo, and when to book• What to bring on your flight from the US to Egypt• Entry visa and process at Cairo International Airport• Your frequently asked questions about flights to Cairo\n",
            "--------------------------------------------------------------------------------\n",
            "Title: What to pack for a trip to Egypt: The Ultimate Egypt Packing List\n",
            "Link: /blog/what-to-pack-for-egypt-packing-list\n",
            "Date: 9/1/24\n",
            "Excerpt: I’m always asked what to pack for Egypt, so I decided to create a comprehensive Egypt packing guide, including:What clothes to pack for a trip to EgyptWhat toiletries to take to EgyptWhat electronics to bring to EgyptEgypt travel essentials you didn't know aboutWhat NOT to bring to EgyptA complete packing list for EgyptFrequently asked questions about what to pack for an Egypt tripHave questions about what to take to Egypt? Leave a comment and let me know your questions, and I’ll answer, and then add more travel tips to this blog post.\n",
            "--------------------------------------------------------------------------------\n",
            "Title: When is the best time to travel to Egypt?\n",
            "Link: /blog/when-is-the-best-time-to-travel-to-egypt\n",
            "Date: 8/28/24\n",
            "Excerpt: We get asked the question, “When is the best time to travel to Egypt?”, a lot!The answer depends on a lot of different factors, like weather, the peak season where there are a lot of crowds, and whether or not Egypt will be observing Ramadan. Also, it depends on the type of trip you are doing - a honeymoon getaway on the Red Sea, or a sightseeing tour with a Nile Cruise?We will talk about all of the different factors to the best times to visit Egypt, and also answer your frequently asked questions about when the best time to visit Egypt is.\n",
            "--------------------------------------------------------------------------------\n",
            "Title: Places to travel in Egypt: Egypt travel guide!\n",
            "Link: /blog/places-to-travel-in-egypt-travel-guide\n",
            "Date: 8/25/24\n",
            "Excerpt: There are so many places to travel in Egypt, it's hard to decide just where to go! I'll make recommendations in this Egypt travel guide for places to see in Egypt depending on how many days you have in-country, and also some suggestions based on specific cities. From ancient Egyptian sites to places tourists don't usually think about, like some of the most amazing coral reefs in the world, Egypt has so much to offer! Let's look at the best places to visit in Egypt.\n",
            "--------------------------------------------------------------------------------\n",
            "Title: Is it Safe to Travel to Egypt?\n",
            "Link: /blog/is-it-safe-to-travel-to-egypt\n",
            "Date: 8/23/24\n",
            "Excerpt: Yes, Egypt is safe, but despite saying this again and again, I am still asked all the time, is it safe to travel to Egypt? Let's talk about safety in Egypt, and discuss topics like:Is Egypt safe to visit?Current travel advisories for Egypt from the United States State DepartmentSafety in specific areas, like the Sinai Peninsula and the Western DesertTravel Egypt advice on safetyFrequently asked questions about safety in Egypt\n",
            "--------------------------------------------------------------------------------\n",
            "Title: Travel advice on Egypt: use these tips to help with your Egypt trip!\n",
            "Link: /blog/travel-advice-on-egypt\n",
            "Date: 8/15/24\n",
            "Excerpt: Planning a trip to Egypt can be daunting, so here is travel advice on Egypt to help you get started on your Egypt itinerary, prepare for your upcoming Egypt trip, and answer your frequently asked questions.\n",
            "--------------------------------------------------------------------------------\n",
            "Title: Can I wear shorts in Egypt? What to wear in Egypt\n",
            "Link: /blog/what-to-wear-in-egypt\n",
            "Date: 8/10/24\n",
            "Excerpt: Many people ask, does Egypt have a dress code? What clothes should I bring? Can I wear shorts in Egypt? Let’s talk about what to wear in Egypt for men and women, the dress code in Egypt for tourists (hint: there isn’t a set Egypt dress code), and what to wear in Egypt in the cooler months (November, December).\n",
            "--------------------------------------------------------------------------------\n",
            "Title: Money in Egypt: Egyptian Pounds, Using ATMs, Currency Exchange, and more!\n",
            "Link: /blog/money-in-egypt-egyptian-pounds-using-atms-currency-exchange-and-more\n",
            "Date: 7/31/24\n",
            "Excerpt: I am often asked about money in Egypt, including:What currency is used in Egypt?How much and when should I tip?Where can I exchange money?Will my credit cards work in Egypt?This blog post will cover all of those questions, preparing you to be on top of your money game when traveling through Cairo and beyond.\n",
            "--------------------------------------------------------------------------------\n",
            "Title: How much do I tip in Egypt? Whom do I tip?\n",
            "Link: /blog/whom-and-how-much-to-tip-in-egypt\n",
            "Date: 7/30/24\n",
            "Excerpt: How much should I tip my tour guide in Egypt? Whom do I pay a tip to at the hotel? Can I tip in Egyptian currency, or dollars? All these questions and more are answered in this overview post on tipping in Egypt in 2024.\n",
            "--------------------------------------------------------------------------------\n"
          ]
        }
      ]
    },
    {
      "cell_type": "code",
      "source": [
        "import re\n",
        "\n",
        "def clean_text(text):\n",
        "    # Remove HTML tags using regex\n",
        "    cleaned_text = re.sub(r'<.*?>', '', text)\n",
        "    # Remove special characters\n",
        "    cleaned_text = re.sub(r'[^A-Za-z0-9\\s]', '', cleaned_text)\n",
        "    # Remove extra spaces\n",
        "    cleaned_text = ' '.join(cleaned_text.split())\n",
        "    return cleaned_text\n",
        "\n",
        "# Example of cleaning the excerpt\n",
        "for article in articles:\n",
        "    excerpt = article.find('div', class_='blog-excerpt-wrapper').get_text(strip=True)\n",
        "    cleaned_excerpt = clean_text(excerpt)\n",
        "    print(f\"Cleaned Excerpt: {cleaned_excerpt}\")\n"
      ],
      "metadata": {
        "colab": {
          "base_uri": "https://localhost:8080/"
        },
        "id": "z0nBSKte9jOe",
        "outputId": "41d27c3d-9f18-49e7-adec-db8dfa3936d5"
      },
      "execution_count": 13,
      "outputs": [
        {
          "output_type": "stream",
          "name": "stdout",
          "text": [
            "Cleaned Excerpt: The Grand Egyptian Museum the largest archaeological museum in the world has its opening date set for July 3 Or so they say Heres what we know about the Grand Egyptian Museum opening and when to expect Egypts newest museum to open\n",
            "Cleaned Excerpt: Use this Egypt Itinerary 10 Days with Nile Cruise to help plan your trip to Egypt see what you can do with a 10 full day trip and check all of those ancient Egyptian sites off of your bucket list in Cairo Luxor Aswan Abu Simbel and Alexandria\n",
            "Cleaned Excerpt: Luxor is the secondmost important place to visit in Egypt aside from the Giza Pyramids and the Sphinx Places like Karnak Temple the Valley of the Kings Hatshepsuts Temple the tomb of King Tut and doing a sunrise hot air balloon over the Nile River are just a few of the experiences this city in Upper Egypt has to offer during your trip Lets talk about the must see attractions in Luxor the best Luxor restaurants best hotels in Luxor and answer all your frequently asked questions before your Luxor trip\n",
            "Cleaned Excerpt: A Dahabiya Nile cruise is the best way to experience the magic of Egypts Nile River Learn what a Dahabiya is why sail down the Nile on a Dahabiya instead of a larger cruise ship explore some great options for luxury Dahabiya Nile cruises and get answers to all your questions about this type of sailing ship\n",
            "Cleaned Excerpt: On October 16 2024 the Grand Egyptian Museum opened up all of its main galleries to the public Check out the 12 new galleries in the GEM see how to buy Grand Egyptian Museum tickets learn how to get to and from the newest museum in Cairo plus read answers to all the frequently asked questions about the Grand Egyptian Museum\n",
            "Cleaned Excerpt: If its your first time in Egypt you may want to learn some Egyptian Arabic phrases and words in order communicate with taxi drivers order from a street food vendor in Cairo or surprise and delight any locals you meetIn this post you will learn important words and phrases and discover resources to dive deeper into learning Egyptian Arabic to get the most out of your Egypt experience\n",
            "Cleaned Excerpt: In this Egypt travel guide I will share places to visit in Aswan like Philae Temple and the Aswan High Dam how to get to Aswan what hotels in Aswan I love and where to eat during your stay\n",
            "Cleaned Excerpt: Everything you need to know about flying to Cairo from the US like How to get to Egypt How long is the flight to Egypt Direct flight to Cairo from the US Airlines that fly to Cairo Flight deals how to find cheap flights to Cairo and when to book What to bring on your flight from the US to Egypt Entry visa and process at Cairo International Airport Your frequently asked questions about flights to Cairo\n",
            "Cleaned Excerpt: Im always asked what to pack for Egypt so I decided to create a comprehensive Egypt packing guide includingWhat clothes to pack for a trip to EgyptWhat toiletries to take to EgyptWhat electronics to bring to EgyptEgypt travel essentials you didnt know aboutWhat NOT to bring to EgyptA complete packing list for EgyptFrequently asked questions about what to pack for an Egypt tripHave questions about what to take to Egypt Leave a comment and let me know your questions and Ill answer and then add more travel tips to this blog post\n",
            "Cleaned Excerpt: We get asked the question When is the best time to travel to Egypt a lotThe answer depends on a lot of different factors like weather the peak season where there are a lot of crowds and whether or not Egypt will be observing Ramadan Also it depends on the type of trip you are doing a honeymoon getaway on the Red Sea or a sightseeing tour with a Nile CruiseWe will talk about all of the different factors to the best times to visit Egypt and also answer your frequently asked questions about when the best time to visit Egypt is\n",
            "Cleaned Excerpt: There are so many places to travel in Egypt its hard to decide just where to go Ill make recommendations in this Egypt travel guide for places to see in Egypt depending on how many days you have incountry and also some suggestions based on specific cities From ancient Egyptian sites to places tourists dont usually think about like some of the most amazing coral reefs in the world Egypt has so much to offer Lets look at the best places to visit in Egypt\n",
            "Cleaned Excerpt: Yes Egypt is safe but despite saying this again and again I am still asked all the time is it safe to travel to Egypt Lets talk about safety in Egypt and discuss topics likeIs Egypt safe to visitCurrent travel advisories for Egypt from the United States State DepartmentSafety in specific areas like the Sinai Peninsula and the Western DesertTravel Egypt advice on safetyFrequently asked questions about safety in Egypt\n",
            "Cleaned Excerpt: Planning a trip to Egypt can be daunting so here is travel advice on Egypt to help you get started on your Egypt itinerary prepare for your upcoming Egypt trip and answer your frequently asked questions\n",
            "Cleaned Excerpt: Many people ask does Egypt have a dress code What clothes should I bring Can I wear shorts in Egypt Lets talk about what to wear in Egypt for men and women the dress code in Egypt for tourists hint there isnt a set Egypt dress code and what to wear in Egypt in the cooler months November December\n",
            "Cleaned Excerpt: I am often asked about money in Egypt includingWhat currency is used in EgyptHow much and when should I tipWhere can I exchange moneyWill my credit cards work in EgyptThis blog post will cover all of those questions preparing you to be on top of your money game when traveling through Cairo and beyond\n",
            "Cleaned Excerpt: How much should I tip my tour guide in Egypt Whom do I pay a tip to at the hotel Can I tip in Egyptian currency or dollars All these questions and more are answered in this overview post on tipping in Egypt in 2024\n"
          ]
        }
      ]
    },
    {
      "cell_type": "code",
      "source": [
        "def chunk_text(text, chunk_size=500):\n",
        "    # Split the text into chunks of a specified size\n",
        "    return [text[i:i+chunk_size] for i in range(0, len(text), chunk_size)]\n",
        "\n",
        "# Example of chunking the excerpt\n",
        "for article in articles:\n",
        "    excerpt = article.find('div', class_='blog-excerpt-wrapper').get_text(strip=True)\n",
        "    cleaned_excerpt = clean_text(excerpt)\n",
        "    chunks = chunk_text(cleaned_excerpt)\n",
        "    print(f\"Text Chunks: {chunks}\")\n"
      ],
      "metadata": {
        "colab": {
          "base_uri": "https://localhost:8080/"
        },
        "id": "yUmFWV-y9lqF",
        "outputId": "212f5c12-421f-4ded-b70d-cdb24603dff6"
      },
      "execution_count": 14,
      "outputs": [
        {
          "output_type": "stream",
          "name": "stdout",
          "text": [
            "Text Chunks: ['The Grand Egyptian Museum the largest archaeological museum in the world has its opening date set for July 3 Or so they say Heres what we know about the Grand Egyptian Museum opening and when to expect Egypts newest museum to open']\n",
            "Text Chunks: ['Use this Egypt Itinerary 10 Days with Nile Cruise to help plan your trip to Egypt see what you can do with a 10 full day trip and check all of those ancient Egyptian sites off of your bucket list in Cairo Luxor Aswan Abu Simbel and Alexandria']\n",
            "Text Chunks: ['Luxor is the secondmost important place to visit in Egypt aside from the Giza Pyramids and the Sphinx Places like Karnak Temple the Valley of the Kings Hatshepsuts Temple the tomb of King Tut and doing a sunrise hot air balloon over the Nile River are just a few of the experiences this city in Upper Egypt has to offer during your trip Lets talk about the must see attractions in Luxor the best Luxor restaurants best hotels in Luxor and answer all your frequently asked questions before your Luxor ', 'trip']\n",
            "Text Chunks: ['A Dahabiya Nile cruise is the best way to experience the magic of Egypts Nile River Learn what a Dahabiya is why sail down the Nile on a Dahabiya instead of a larger cruise ship explore some great options for luxury Dahabiya Nile cruises and get answers to all your questions about this type of sailing ship']\n",
            "Text Chunks: ['On October 16 2024 the Grand Egyptian Museum opened up all of its main galleries to the public Check out the 12 new galleries in the GEM see how to buy Grand Egyptian Museum tickets learn how to get to and from the newest museum in Cairo plus read answers to all the frequently asked questions about the Grand Egyptian Museum']\n",
            "Text Chunks: ['If its your first time in Egypt you may want to learn some Egyptian Arabic phrases and words in order communicate with taxi drivers order from a street food vendor in Cairo or surprise and delight any locals you meetIn this post you will learn important words and phrases and discover resources to dive deeper into learning Egyptian Arabic to get the most out of your Egypt experience']\n",
            "Text Chunks: ['In this Egypt travel guide I will share places to visit in Aswan like Philae Temple and the Aswan High Dam how to get to Aswan what hotels in Aswan I love and where to eat during your stay']\n",
            "Text Chunks: ['Everything you need to know about flying to Cairo from the US like How to get to Egypt How long is the flight to Egypt Direct flight to Cairo from the US Airlines that fly to Cairo Flight deals how to find cheap flights to Cairo and when to book What to bring on your flight from the US to Egypt Entry visa and process at Cairo International Airport Your frequently asked questions about flights to Cairo']\n",
            "Text Chunks: ['Im always asked what to pack for Egypt so I decided to create a comprehensive Egypt packing guide includingWhat clothes to pack for a trip to EgyptWhat toiletries to take to EgyptWhat electronics to bring to EgyptEgypt travel essentials you didnt know aboutWhat NOT to bring to EgyptA complete packing list for EgyptFrequently asked questions about what to pack for an Egypt tripHave questions about what to take to Egypt Leave a comment and let me know your questions and Ill answer and then add mor', 'e travel tips to this blog post']\n",
            "Text Chunks: ['We get asked the question When is the best time to travel to Egypt a lotThe answer depends on a lot of different factors like weather the peak season where there are a lot of crowds and whether or not Egypt will be observing Ramadan Also it depends on the type of trip you are doing a honeymoon getaway on the Red Sea or a sightseeing tour with a Nile CruiseWe will talk about all of the different factors to the best times to visit Egypt and also answer your frequently asked questions about when th', 'e best time to visit Egypt is']\n",
            "Text Chunks: ['There are so many places to travel in Egypt its hard to decide just where to go Ill make recommendations in this Egypt travel guide for places to see in Egypt depending on how many days you have incountry and also some suggestions based on specific cities From ancient Egyptian sites to places tourists dont usually think about like some of the most amazing coral reefs in the world Egypt has so much to offer Lets look at the best places to visit in Egypt']\n",
            "Text Chunks: ['Yes Egypt is safe but despite saying this again and again I am still asked all the time is it safe to travel to Egypt Lets talk about safety in Egypt and discuss topics likeIs Egypt safe to visitCurrent travel advisories for Egypt from the United States State DepartmentSafety in specific areas like the Sinai Peninsula and the Western DesertTravel Egypt advice on safetyFrequently asked questions about safety in Egypt']\n",
            "Text Chunks: ['Planning a trip to Egypt can be daunting so here is travel advice on Egypt to help you get started on your Egypt itinerary prepare for your upcoming Egypt trip and answer your frequently asked questions']\n",
            "Text Chunks: ['Many people ask does Egypt have a dress code What clothes should I bring Can I wear shorts in Egypt Lets talk about what to wear in Egypt for men and women the dress code in Egypt for tourists hint there isnt a set Egypt dress code and what to wear in Egypt in the cooler months November December']\n",
            "Text Chunks: ['I am often asked about money in Egypt includingWhat currency is used in EgyptHow much and when should I tipWhere can I exchange moneyWill my credit cards work in EgyptThis blog post will cover all of those questions preparing you to be on top of your money game when traveling through Cairo and beyond']\n",
            "Text Chunks: ['How much should I tip my tour guide in Egypt Whom do I pay a tip to at the hotel Can I tip in Egyptian currency or dollars All these questions and more are answered in this overview post on tipping in Egypt in 2024']\n"
          ]
        }
      ]
    },
    {
      "cell_type": "code",
      "source": [
        "# Extract metadata for the whole page (title, author, etc.)\n",
        "page_title = soup.find('title').get_text(strip=True)\n",
        "print(f\"Page Title: {page_title}\")\n",
        "\n",
        "# Extract author information (if available)\n",
        "author = articles[0].find('span', class_='blog-author').get_text(strip=True)\n",
        "print(f\"Author: {author}\")\n"
      ],
      "metadata": {
        "colab": {
          "base_uri": "https://localhost:8080/"
        },
        "id": "v5kuNun19nkV",
        "outputId": "391e1977-4558-47e1-a838-6a0951fa839a"
      },
      "execution_count": 15,
      "outputs": [
        {
          "output_type": "stream",
          "name": "stdout",
          "text": [
            "Page Title: Egypt Adventures Travel Blog — Egypt Adventures Travel\n",
            "Author: Gus Gleiter\n"
          ]
        }
      ]
    },
    {
      "cell_type": "code",
      "source": [
        "# Extract article details\n",
        "articles = soup.find_all('article', class_='hentry')\n",
        "\n",
        "for article in articles:\n",
        "    title = article.find('h1', class_='blog-title').get_text(strip=True)\n",
        "    link = article.find('a')['href']\n",
        "    date = article.find('time', class_='blog-date').get_text(strip=True)\n",
        "    author = article.find('span', class_='blog-author').get_text(strip=True)\n",
        "    excerpt = article.find('div', class_='blog-excerpt-wrapper').get_text(strip=True)\n",
        "\n",
        "    # Clean and chunk the excerpt\n",
        "    cleaned_excerpt = clean_text(excerpt)\n",
        "    chunks = chunk_text(cleaned_excerpt)\n",
        "\n",
        "    print(f\"\\nTitle: {title}\")\n",
        "    print(f\"Link: {link}\")\n",
        "    print(f\"Date: {date}\")\n",
        "    print(f\"Author: {author}\")\n",
        "    print(f\"Cleaned Excerpt: {cleaned_excerpt}\")\n",
        "    print(f\"Text Chunks: {chunks}\")\n",
        "    print(\"-\" * 80)\n"
      ],
      "metadata": {
        "colab": {
          "base_uri": "https://localhost:8080/"
        },
        "id": "Xca5zD9H9qH4",
        "outputId": "f771108d-e771-42c5-b2b5-3ff4bdd04669"
      },
      "execution_count": 18,
      "outputs": [
        {
          "output_type": "stream",
          "name": "stdout",
          "text": [
            "\n",
            "Title: Grand Egyptian Museum Opening July 3!\n",
            "Link: /blog/grand-egyptian-museum-opening\n",
            "Date: 1/30/25\n",
            "Author: Gus Gleiter\n",
            "Cleaned Excerpt: The Grand Egyptian Museum the largest archaeological museum in the world has its opening date set for July 3 Or so they say Heres what we know about the Grand Egyptian Museum opening and when to expect Egypts newest museum to open\n",
            "Text Chunks: ['The Grand Egyptian Museum the largest archaeological museum in the world has its opening date set for July 3 Or so they say Heres what we know about the Grand Egyptian Museum opening and when to expect Egypts newest museum to open']\n",
            "--------------------------------------------------------------------------------\n",
            "\n",
            "Title: Egypt Itinerary 10 Days with Nile Cruise\n",
            "Link: /blog/egypt-itinerary-10-days-with-nile-cruise\n",
            "Date: 1/22/25\n",
            "Author: Gus Gleiter\n",
            "Cleaned Excerpt: Use this Egypt Itinerary 10 Days with Nile Cruise to help plan your trip to Egypt see what you can do with a 10 full day trip and check all of those ancient Egyptian sites off of your bucket list in Cairo Luxor Aswan Abu Simbel and Alexandria\n",
            "Text Chunks: ['Use this Egypt Itinerary 10 Days with Nile Cruise to help plan your trip to Egypt see what you can do with a 10 full day trip and check all of those ancient Egyptian sites off of your bucket list in Cairo Luxor Aswan Abu Simbel and Alexandria']\n",
            "--------------------------------------------------------------------------------\n",
            "\n",
            "Title: Things to See in Luxor Egypt\n",
            "Link: /blog/things-to-see-in-luxor-egypt\n",
            "Date: 1/12/25\n",
            "Author: Gus Gleiter\n",
            "Cleaned Excerpt: Luxor is the secondmost important place to visit in Egypt aside from the Giza Pyramids and the Sphinx Places like Karnak Temple the Valley of the Kings Hatshepsuts Temple the tomb of King Tut and doing a sunrise hot air balloon over the Nile River are just a few of the experiences this city in Upper Egypt has to offer during your trip Lets talk about the must see attractions in Luxor the best Luxor restaurants best hotels in Luxor and answer all your frequently asked questions before your Luxor trip\n",
            "Text Chunks: ['Luxor is the secondmost important place to visit in Egypt aside from the Giza Pyramids and the Sphinx Places like Karnak Temple the Valley of the Kings Hatshepsuts Temple the tomb of King Tut and doing a sunrise hot air balloon over the Nile River are just a few of the experiences this city in Upper Egypt has to offer during your trip Lets talk about the must see attractions in Luxor the best Luxor restaurants best hotels in Luxor and answer all your frequently asked questions before your Luxor ', 'trip']\n",
            "--------------------------------------------------------------------------------\n",
            "\n",
            "Title: Dahabiya Nile Cruise - guide to sailing on Egypt’s Nile River!\n",
            "Link: /blog/dahabiya-nile-cruise-guide\n",
            "Date: 11/8/24\n",
            "Author: Gus Gleiter\n",
            "Cleaned Excerpt: A Dahabiya Nile cruise is the best way to experience the magic of Egypts Nile River Learn what a Dahabiya is why sail down the Nile on a Dahabiya instead of a larger cruise ship explore some great options for luxury Dahabiya Nile cruises and get answers to all your questions about this type of sailing ship\n",
            "Text Chunks: ['A Dahabiya Nile cruise is the best way to experience the magic of Egypts Nile River Learn what a Dahabiya is why sail down the Nile on a Dahabiya instead of a larger cruise ship explore some great options for luxury Dahabiya Nile cruises and get answers to all your questions about this type of sailing ship']\n",
            "--------------------------------------------------------------------------------\n",
            "\n",
            "Title: Grand Egyptian Museum opens 12 NEW GALLERIES!\n",
            "Link: /blog/grand-egyptian-museum-opens-12-new-galleries\n",
            "Date: 10/21/24\n",
            "Author: Gus Gleiter\n",
            "Cleaned Excerpt: On October 16 2024 the Grand Egyptian Museum opened up all of its main galleries to the public Check out the 12 new galleries in the GEM see how to buy Grand Egyptian Museum tickets learn how to get to and from the newest museum in Cairo plus read answers to all the frequently asked questions about the Grand Egyptian Museum\n",
            "Text Chunks: ['On October 16 2024 the Grand Egyptian Museum opened up all of its main galleries to the public Check out the 12 new galleries in the GEM see how to buy Grand Egyptian Museum tickets learn how to get to and from the newest museum in Cairo plus read answers to all the frequently asked questions about the Grand Egyptian Museum']\n",
            "--------------------------------------------------------------------------------\n",
            "\n",
            "Title: Egyptian Arabic for travel to Egypt: Arabic Words and Arabic Phrases to help with your trip\n",
            "Link: /blog/egyptian-arabic-for-travel-arabic-words-and-arabic-phrases\n",
            "Date: 10/4/24\n",
            "Author: Gus Gleiter\n",
            "Cleaned Excerpt: If its your first time in Egypt you may want to learn some Egyptian Arabic phrases and words in order communicate with taxi drivers order from a street food vendor in Cairo or surprise and delight any locals you meetIn this post you will learn important words and phrases and discover resources to dive deeper into learning Egyptian Arabic to get the most out of your Egypt experience\n",
            "Text Chunks: ['If its your first time in Egypt you may want to learn some Egyptian Arabic phrases and words in order communicate with taxi drivers order from a street food vendor in Cairo or surprise and delight any locals you meetIn this post you will learn important words and phrases and discover resources to dive deeper into learning Egyptian Arabic to get the most out of your Egypt experience']\n",
            "--------------------------------------------------------------------------------\n",
            "\n",
            "Title: Aswan Travel Guide: Aswan Attractions, Hotels, Restaurants, and more!\n",
            "Link: /blog/aswan-travel-guide-attractions-hotels-restaurants\n",
            "Date: 10/1/24\n",
            "Author: Gus Gleiter\n",
            "Cleaned Excerpt: In this Egypt travel guide I will share places to visit in Aswan like Philae Temple and the Aswan High Dam how to get to Aswan what hotels in Aswan I love and where to eat during your stay\n",
            "Text Chunks: ['In this Egypt travel guide I will share places to visit in Aswan like Philae Temple and the Aswan High Dam how to get to Aswan what hotels in Aswan I love and where to eat during your stay']\n",
            "--------------------------------------------------------------------------------\n",
            "\n",
            "Title: Flights from the US to Cairo: ultimate guide!\n",
            "Link: /blog/flights-from-us-to-cairo-egypt\n",
            "Date: 9/5/24\n",
            "Author: Gus Gleiter\n",
            "Cleaned Excerpt: Everything you need to know about flying to Cairo from the US like How to get to Egypt How long is the flight to Egypt Direct flight to Cairo from the US Airlines that fly to Cairo Flight deals how to find cheap flights to Cairo and when to book What to bring on your flight from the US to Egypt Entry visa and process at Cairo International Airport Your frequently asked questions about flights to Cairo\n",
            "Text Chunks: ['Everything you need to know about flying to Cairo from the US like How to get to Egypt How long is the flight to Egypt Direct flight to Cairo from the US Airlines that fly to Cairo Flight deals how to find cheap flights to Cairo and when to book What to bring on your flight from the US to Egypt Entry visa and process at Cairo International Airport Your frequently asked questions about flights to Cairo']\n",
            "--------------------------------------------------------------------------------\n",
            "\n",
            "Title: What to pack for a trip to Egypt: The Ultimate Egypt Packing List\n",
            "Link: /blog/what-to-pack-for-egypt-packing-list\n",
            "Date: 9/1/24\n",
            "Author: Gus Gleiter\n",
            "Cleaned Excerpt: Im always asked what to pack for Egypt so I decided to create a comprehensive Egypt packing guide includingWhat clothes to pack for a trip to EgyptWhat toiletries to take to EgyptWhat electronics to bring to EgyptEgypt travel essentials you didnt know aboutWhat NOT to bring to EgyptA complete packing list for EgyptFrequently asked questions about what to pack for an Egypt tripHave questions about what to take to Egypt Leave a comment and let me know your questions and Ill answer and then add more travel tips to this blog post\n",
            "Text Chunks: ['Im always asked what to pack for Egypt so I decided to create a comprehensive Egypt packing guide includingWhat clothes to pack for a trip to EgyptWhat toiletries to take to EgyptWhat electronics to bring to EgyptEgypt travel essentials you didnt know aboutWhat NOT to bring to EgyptA complete packing list for EgyptFrequently asked questions about what to pack for an Egypt tripHave questions about what to take to Egypt Leave a comment and let me know your questions and Ill answer and then add mor', 'e travel tips to this blog post']\n",
            "--------------------------------------------------------------------------------\n",
            "\n",
            "Title: When is the best time to travel to Egypt?\n",
            "Link: /blog/when-is-the-best-time-to-travel-to-egypt\n",
            "Date: 8/28/24\n",
            "Author: Gus Gleiter\n",
            "Cleaned Excerpt: We get asked the question When is the best time to travel to Egypt a lotThe answer depends on a lot of different factors like weather the peak season where there are a lot of crowds and whether or not Egypt will be observing Ramadan Also it depends on the type of trip you are doing a honeymoon getaway on the Red Sea or a sightseeing tour with a Nile CruiseWe will talk about all of the different factors to the best times to visit Egypt and also answer your frequently asked questions about when the best time to visit Egypt is\n",
            "Text Chunks: ['We get asked the question When is the best time to travel to Egypt a lotThe answer depends on a lot of different factors like weather the peak season where there are a lot of crowds and whether or not Egypt will be observing Ramadan Also it depends on the type of trip you are doing a honeymoon getaway on the Red Sea or a sightseeing tour with a Nile CruiseWe will talk about all of the different factors to the best times to visit Egypt and also answer your frequently asked questions about when th', 'e best time to visit Egypt is']\n",
            "--------------------------------------------------------------------------------\n",
            "\n",
            "Title: Places to travel in Egypt: Egypt travel guide!\n",
            "Link: /blog/places-to-travel-in-egypt-travel-guide\n",
            "Date: 8/25/24\n",
            "Author: Gus Gleiter\n",
            "Cleaned Excerpt: There are so many places to travel in Egypt its hard to decide just where to go Ill make recommendations in this Egypt travel guide for places to see in Egypt depending on how many days you have incountry and also some suggestions based on specific cities From ancient Egyptian sites to places tourists dont usually think about like some of the most amazing coral reefs in the world Egypt has so much to offer Lets look at the best places to visit in Egypt\n",
            "Text Chunks: ['There are so many places to travel in Egypt its hard to decide just where to go Ill make recommendations in this Egypt travel guide for places to see in Egypt depending on how many days you have incountry and also some suggestions based on specific cities From ancient Egyptian sites to places tourists dont usually think about like some of the most amazing coral reefs in the world Egypt has so much to offer Lets look at the best places to visit in Egypt']\n",
            "--------------------------------------------------------------------------------\n",
            "\n",
            "Title: Is it Safe to Travel to Egypt?\n",
            "Link: /blog/is-it-safe-to-travel-to-egypt\n",
            "Date: 8/23/24\n",
            "Author: Gus Gleiter\n",
            "Cleaned Excerpt: Yes Egypt is safe but despite saying this again and again I am still asked all the time is it safe to travel to Egypt Lets talk about safety in Egypt and discuss topics likeIs Egypt safe to visitCurrent travel advisories for Egypt from the United States State DepartmentSafety in specific areas like the Sinai Peninsula and the Western DesertTravel Egypt advice on safetyFrequently asked questions about safety in Egypt\n",
            "Text Chunks: ['Yes Egypt is safe but despite saying this again and again I am still asked all the time is it safe to travel to Egypt Lets talk about safety in Egypt and discuss topics likeIs Egypt safe to visitCurrent travel advisories for Egypt from the United States State DepartmentSafety in specific areas like the Sinai Peninsula and the Western DesertTravel Egypt advice on safetyFrequently asked questions about safety in Egypt']\n",
            "--------------------------------------------------------------------------------\n",
            "\n",
            "Title: Travel advice on Egypt: use these tips to help with your Egypt trip!\n",
            "Link: /blog/travel-advice-on-egypt\n",
            "Date: 8/15/24\n",
            "Author: Gus Gleiter\n",
            "Cleaned Excerpt: Planning a trip to Egypt can be daunting so here is travel advice on Egypt to help you get started on your Egypt itinerary prepare for your upcoming Egypt trip and answer your frequently asked questions\n",
            "Text Chunks: ['Planning a trip to Egypt can be daunting so here is travel advice on Egypt to help you get started on your Egypt itinerary prepare for your upcoming Egypt trip and answer your frequently asked questions']\n",
            "--------------------------------------------------------------------------------\n",
            "\n",
            "Title: Can I wear shorts in Egypt? What to wear in Egypt\n",
            "Link: /blog/what-to-wear-in-egypt\n",
            "Date: 8/10/24\n",
            "Author: Gus Gleiter\n",
            "Cleaned Excerpt: Many people ask does Egypt have a dress code What clothes should I bring Can I wear shorts in Egypt Lets talk about what to wear in Egypt for men and women the dress code in Egypt for tourists hint there isnt a set Egypt dress code and what to wear in Egypt in the cooler months November December\n",
            "Text Chunks: ['Many people ask does Egypt have a dress code What clothes should I bring Can I wear shorts in Egypt Lets talk about what to wear in Egypt for men and women the dress code in Egypt for tourists hint there isnt a set Egypt dress code and what to wear in Egypt in the cooler months November December']\n",
            "--------------------------------------------------------------------------------\n",
            "\n",
            "Title: Money in Egypt: Egyptian Pounds, Using ATMs, Currency Exchange, and more!\n",
            "Link: /blog/money-in-egypt-egyptian-pounds-using-atms-currency-exchange-and-more\n",
            "Date: 7/31/24\n",
            "Author: Gus Gleiter\n",
            "Cleaned Excerpt: I am often asked about money in Egypt includingWhat currency is used in EgyptHow much and when should I tipWhere can I exchange moneyWill my credit cards work in EgyptThis blog post will cover all of those questions preparing you to be on top of your money game when traveling through Cairo and beyond\n",
            "Text Chunks: ['I am often asked about money in Egypt includingWhat currency is used in EgyptHow much and when should I tipWhere can I exchange moneyWill my credit cards work in EgyptThis blog post will cover all of those questions preparing you to be on top of your money game when traveling through Cairo and beyond']\n",
            "--------------------------------------------------------------------------------\n",
            "\n",
            "Title: How much do I tip in Egypt? Whom do I tip?\n",
            "Link: /blog/whom-and-how-much-to-tip-in-egypt\n",
            "Date: 7/30/24\n",
            "Author: Gus Gleiter\n",
            "Cleaned Excerpt: How much should I tip my tour guide in Egypt Whom do I pay a tip to at the hotel Can I tip in Egyptian currency or dollars All these questions and more are answered in this overview post on tipping in Egypt in 2024\n",
            "Text Chunks: ['How much should I tip my tour guide in Egypt Whom do I pay a tip to at the hotel Can I tip in Egyptian currency or dollars All these questions and more are answered in this overview post on tipping in Egypt in 2024']\n",
            "--------------------------------------------------------------------------------\n"
          ]
        }
      ]
    },
    {
      "cell_type": "code",
      "source": [
        "import requests\n",
        "from bs4 import BeautifulSoup\n",
        "import re\n",
        "import pandas as pd\n",
        "\n",
        "# Send a request to the blog URL\n",
        "url = 'https://www.egyptadventurestravel.com/blog'\n",
        "response = requests.get(url)\n",
        "soup = BeautifulSoup(response.content, 'html.parser')\n",
        "\n",
        "# Function to clean text\n",
        "def clean_text(text):\n",
        "    cleaned_text = re.sub(r'<.*?>', '', text)\n",
        "    cleaned_text = re.sub(r'[^A-Za-z0-9\\s]', '', cleaned_text)\n",
        "    cleaned_text = ' '.join(cleaned_text.split())\n",
        "    return cleaned_text\n",
        "\n",
        "# Function to chunk text\n",
        "def chunk_text(text, chunk_size=500):\n",
        "    return [text[i:i+chunk_size] for i in range(0, len(text), chunk_size)]\n",
        "\n",
        "# Extract article details\n",
        "articles = soup.find_all('article', class_='hentry')\n",
        "\n",
        "# Create a list to store article data\n",
        "data = []\n",
        "\n",
        "for article in articles:\n",
        "    title = article.find('h1', class_='blog-title').get_text(strip=True)\n",
        "    link = article.find('a')['href']\n",
        "    date = article.find('time', class_='blog-date').get_text(strip=True)\n",
        "    author = article.find('span', class_='blog-author').get_text(strip=True)\n",
        "    excerpt = article.find('div', class_='blog-excerpt-wrapper').get_text(strip=True)\n",
        "\n",
        "    # Clean and chunk the excerpt\n",
        "    cleaned_excerpt = clean_text(excerpt)\n",
        "    chunks = chunk_text(cleaned_excerpt)\n",
        "\n",
        "    # Append the data to the list\n",
        "    data.append([title, link, date, author, cleaned_excerpt, \"; \".join(chunks)])\n",
        "\n",
        "# Convert the list of data into a DataFrame\n",
        "df = pd.DataFrame(data, columns=['Title', 'Link', 'Date', 'Author', 'Excerpt', 'Text Chunks'])\n",
        "\n",
        "# Save the DataFrame to CSV\n",
        "df.to_csv('egypt_blog_data.csv', index=False, encoding='utf-8')\n",
        "\n",
        "print(\"Data has been saved to 'egypt_blog_data.csv'.\")\n"
      ],
      "metadata": {
        "colab": {
          "base_uri": "https://localhost:8080/"
        },
        "id": "1-DgzoXY9rYl",
        "outputId": "a7758b08-9f91-477d-9b9c-500a13451591"
      },
      "execution_count": 17,
      "outputs": [
        {
          "output_type": "stream",
          "name": "stdout",
          "text": [
            "Data has been saved to 'egypt_blog_data.csv'.\n"
          ]
        }
      ]
    },
    {
      "cell_type": "code",
      "source": [],
      "metadata": {
        "id": "4HsFw0pe-KdR"
      },
      "execution_count": null,
      "outputs": []
    }
  ]
}